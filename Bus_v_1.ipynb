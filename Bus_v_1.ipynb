{
  "cells": [
    {
      "cell_type": "markdown",
      "metadata": {
        "id": "VROX8HMmSQ3x"
      },
      "source": [
        "#<center>CNN : Convolutional Newrual Network\n"
      ]
    },
    {
      "cell_type": "markdown",
      "metadata": {
        "id": "uBTHaRxeE3TV"
      },
      "source": [
        "#1. เตรียมข้อมูล (Dataset prepare)"
      ]
    },
    {
      "cell_type": "markdown",
      "metadata": {
        "id": "6ESCNgfUSuUm"
      },
      "source": [
        "###อ่านไฟล์ในโฟลเดอร์ covid และ normal"
      ]
    },
    {
      "cell_type": "code",
      "execution_count": 26,
      "metadata": {},
      "outputs": [
        {
          "name": "stdout",
          "output_type": "stream",
          "text": [
            "/opt/miniconda3/envs/AI2022/lib/python3.9/site-packages/gdown/cli.py:127: FutureWarning: Option `--id` was deprecated in version 4.3.1 and will be removed in 5.0. You don't need to pass it anymore to use a file ID.\n",
            "  warnings.warn(\n",
            "Downloading...\n",
            "From: https://drive.google.com/uc?id=1wbwAhyEBaqHe63767c2uKdorQfr7v_lz\n",
            "To: /Users/srisuphadith/cnn/Sign_new.zip\n",
            "100%|██████████████████████████████████████| 45.2M/45.2M [00:02<00:00, 21.3MB/s]\n"
          ]
        }
      ],
      "source": [
        "!gdown --id 1wbwAhyEBaqHe63767c2uKdorQfr7v_lz\n",
        "!unzip -qq Sign_new.zip"
      ]
    },
    {
      "cell_type": "code",
      "execution_count": 28,
      "metadata": {},
      "outputs": [],
      "source": [
        "from os import listdir\n",
        "from os.path import isfile, join\n",
        "from tqdm import tqdm"
      ]
    },
    {
      "cell_type": "code",
      "execution_count": 29,
      "metadata": {},
      "outputs": [],
      "source": [
        "width = 128\n",
        "num_classes = 16\n",
        "trainpath = 'trainn/'\n",
        "testpath = 'testt/'\n",
        "trainImg = [trainpath+f for f in listdir(trainpath)]\n",
        "testImg = [testpath+f for f in listdir(testpath)]"
      ]
    },
    {
      "cell_type": "code",
      "execution_count": 30,
      "metadata": {},
      "outputs": [
        {
          "data": {
            "text/plain": [
              "(['trainn/Nongtong',\n",
              "  'trainn/Bosang',\n",
              "  'trainn/Viang',\n",
              "  'trainn/Sankampang',\n",
              "  'trainn/Tung',\n",
              "  'trainn/Makam',\n",
              "  'trainn/Maerim',\n",
              "  'trainn/Kuan',\n",
              "  'trainn/Doisaket',\n",
              "  'trainn/Maetang',\n",
              "  'trainn/Saimai',\n",
              "  'trainn/Bankad',\n",
              "  'trainn/Sanhot',\n",
              "  'trainn/Sansai',\n",
              "  'trainn/Sanpa',\n",
              "  'trainn/Jomtong'],\n",
              " ['testt/Nongtong',\n",
              "  'testt/Bosang',\n",
              "  'testt/Viang',\n",
              "  'testt/Sankampang',\n",
              "  'testt/Tung',\n",
              "  'testt/Makam',\n",
              "  'testt/Maerim',\n",
              "  'testt/Kuan',\n",
              "  'testt/Doisaket',\n",
              "  'testt/Maetang',\n",
              "  'testt/Saimai',\n",
              "  'testt/Bankad',\n",
              "  'testt/Sanhot',\n",
              "  'testt/Sansai',\n",
              "  'testt/Sanpa',\n",
              "  'testt/Jomtong'])"
            ]
          },
          "execution_count": 30,
          "metadata": {},
          "output_type": "execute_result"
        }
      ],
      "source": [
        "trainImg , testImg"
      ]
    },
    {
      "cell_type": "code",
      "execution_count": 31,
      "metadata": {},
      "outputs": [],
      "source": [
        "def img2data(path):\n",
        "  rawImgs = []\n",
        "  labels = []\n",
        "\n",
        "  for imagePath in (path):\n",
        "      for item in tqdm(listdir(imagePath)):\n",
        "          file = join(imagePath, item)\n",
        "          if file[-1] =='g':\n",
        "            img = cv2.imread(file , cv2.COLOR_BGR2RGB)\n",
        "            img = cv2.resize(img ,(width,width))\n",
        "            rawImgs.append(img)\n",
        "            \n",
        "            l = imagePath.split('/')[1]\n",
        "            \n",
        "            \n",
        "            if l == 'Bosang':\n",
        "              labels.append([1,0,0,0,0,0,0,0,0,0,0,0,0,0,0,0])         \n",
        "            elif l == 'Maerim':\n",
        "              labels.append([0,1,0,0,0,0,0,0,0,0,0,0,0,0,0,0])\n",
        "            elif l == 'Saimai':\n",
        "              labels.append([0,0,1,0,0,0,0,0,0,0,0,0,0,0,0,0])\n",
        "            elif l == 'Sansai':\n",
        "              labels.append([0,0,0,1,0,0,0,0,0,0,0,0,0,0,0,0])\n",
        "            elif l == 'Bankad':\n",
        "              labels.append([0,0,0,0,1,0,0,0,0,0,0,0,0,0,0,0])\n",
        "            elif l == 'Doisaket':\n",
        "              labels.append([0,0,0,0,0,1,0,0,0,0,0,0,0,0,0,0])\n",
        "            elif l == 'Jomtong':\n",
        "              labels.append([0,0,0,0,0,0,1,0,0,0,0,0,0,0,0,0])\n",
        "            elif l == 'Kuan':\n",
        "              labels.append([0,0,0,0,0,0,0,1,0,0,0,0,0,0,0,0])\n",
        "            elif l == 'Maetang':\n",
        "              labels.append([0,0,0,0,0,0,0,0,1,0,0,0,0,0,0,0])\n",
        "            elif l == 'Makam':\n",
        "              labels.append([0,0,0,0,0,0,0,0,0,1,0,0,0,0,0,0])\n",
        "            elif l == 'Nongtong':\n",
        "              labels.append([0,0,0,0,0,0,0,0,0,0,1,0,0,0,0,0])\n",
        "            elif l == 'Sanhot':\n",
        "              labels.append([0,0,0,0,0,0,0,0,0,0,0,1,0,0,0,0])\n",
        "            elif l == 'Tung':\n",
        "              labels.append([0,0,0,0,0,0,0,0,0,0,0,0,1,0,0,0])\n",
        "            elif l == 'Viang':\n",
        "              labels.append([0,0,0,0,0,0,0,0,0,0,0,0,0,1,0,0])\n",
        "            elif l == 'Sankampang':\n",
        "              labels.append([0,0,0,0,0,0,0,0,0,0,0,0,0,0,1,0])\n",
        "            elif l == 'Sanpa':\n",
        "              labels.append([0,0,0,0,0,0,0,0,0,0,0,0,0,0,0,1])\n",
        "          \n",
        "\n",
        "  return rawImgs, labels"
      ]
    },
    {
      "cell_type": "code",
      "execution_count": 32,
      "metadata": {},
      "outputs": [
        {
          "name": "stderr",
          "output_type": "stream",
          "text": [
            "100%|██████████| 42/42 [00:00<00:00, 276.74it/s]\n",
            "100%|██████████| 42/42 [00:00<00:00, 321.66it/s]\n",
            "100%|██████████| 42/42 [00:00<00:00, 351.02it/s]\n",
            "100%|██████████| 42/42 [00:00<00:00, 334.77it/s]\n",
            "100%|██████████| 42/42 [00:00<00:00, 362.48it/s]\n",
            "100%|██████████| 42/42 [00:00<00:00, 327.82it/s]\n",
            "100%|██████████| 42/42 [00:00<00:00, 376.85it/s]\n",
            "100%|██████████| 42/42 [00:00<00:00, 362.87it/s]\n",
            "100%|██████████| 42/42 [00:00<00:00, 351.01it/s]\n",
            "100%|██████████| 42/42 [00:00<00:00, 354.41it/s]\n",
            "100%|██████████| 42/42 [00:00<00:00, 355.41it/s]\n",
            "100%|██████████| 41/41 [00:00<00:00, 346.75it/s]\n",
            "100%|██████████| 42/42 [00:00<00:00, 344.98it/s]\n",
            "100%|██████████| 42/42 [00:00<00:00, 366.38it/s]\n",
            "100%|██████████| 42/42 [00:00<00:00, 380.43it/s]\n",
            "100%|██████████| 42/42 [00:00<00:00, 369.55it/s]\n",
            "100%|██████████| 6/6 [00:00<00:00, 414.25it/s]\n",
            "100%|██████████| 6/6 [00:00<00:00, 378.24it/s]\n",
            "100%|██████████| 6/6 [00:00<00:00, 382.75it/s]\n",
            "100%|██████████| 6/6 [00:00<00:00, 368.14it/s]\n",
            "100%|██████████| 6/6 [00:00<00:00, 441.08it/s]\n",
            "100%|██████████| 6/6 [00:00<00:00, 419.37it/s]\n",
            "100%|██████████| 6/6 [00:00<00:00, 413.80it/s]\n",
            "100%|██████████| 6/6 [00:00<00:00, 388.78it/s]\n",
            "100%|██████████| 6/6 [00:00<00:00, 381.46it/s]\n",
            "100%|██████████| 6/6 [00:00<00:00, 376.99it/s]\n",
            "100%|██████████| 6/6 [00:00<00:00, 356.17it/s]\n",
            "100%|██████████| 6/6 [00:00<00:00, 393.28it/s]\n",
            "100%|██████████| 6/6 [00:00<00:00, 370.94it/s]\n",
            "100%|██████████| 6/6 [00:00<00:00, 409.11it/s]\n",
            "100%|██████████| 6/6 [00:00<00:00, 435.85it/s]\n",
            "100%|██████████| 6/6 [00:00<00:00, 406.94it/s]\n"
          ]
        }
      ],
      "source": [
        "x_train, y_train = img2data(trainImg)\n",
        "x_test, y_test = img2data(testImg)"
      ]
    },
    {
      "cell_type": "code",
      "execution_count": 33,
      "metadata": {},
      "outputs": [],
      "source": [
        "x_train = np.array(x_train)\n",
        "y_train = np.array(y_train)\n",
        "x_test = np.array(x_test)\n",
        "y_test = np.array(y_test)\n",
        "x_train = x_train.astype('float32')\n",
        "x_test = x_test.astype('float32')\n",
        "x_train /= 255\n",
        "x_test /= 255"
      ]
    },
    {
      "cell_type": "code",
      "execution_count": 34,
      "metadata": {},
      "outputs": [
        {
          "data": {
            "text/plain": [
              "((671, 128, 128, 3), (671, 16), (96, 128, 128, 3), (96, 16))"
            ]
          },
          "execution_count": 34,
          "metadata": {},
          "output_type": "execute_result"
        }
      ],
      "source": [
        "x_train.shape,y_train.shape,x_test.shape, y_test.shape"
      ]
    },
    {
      "cell_type": "code",
      "execution_count": 1,
      "metadata": {
        "id": "UNqbv_FKsoa1"
      },
      "outputs": [],
      "source": [
        "import os\n",
        "import cv2\n",
        "import numpy as np\n",
        "import matplotlib.pyplot as plt\n",
        "from tqdm import tqdm\n",
        "from os.path import isfile, join\n",
        "\n",
        "dir1 = os.listdir('train/doisaked/')\n",
        "dir2 = os.listdir('train/maerim/')\n",
        "\n"
      ]
    },
    {
      "cell_type": "code",
      "execution_count": 2,
      "metadata": {},
      "outputs": [],
      "source": [
        "raw = []\n",
        "label = []"
      ]
    },
    {
      "cell_type": "code",
      "execution_count": 3,
      "metadata": {
        "id": "E2ttJOzDaleV"
      },
      "outputs": [],
      "source": [
        "trainpath = 'train/maerim/'\n",
        "x = []\n",
        "trainImg = [trainpath+f for f in os.listdir(trainpath)]\n",
        "#print(trainImg)\n",
        "for i in (trainImg):\n",
        "    if i[-1] != 'e':\n",
        "     x.append(i)\n",
        "     img = cv2.imread(str(i))\n",
        "     img = cv2.resize(img ,(224,224))\n",
        "     raw.append(img)\n",
        "     label.append(0)\n",
        "    "
      ]
    },
    {
      "cell_type": "code",
      "execution_count": 4,
      "metadata": {},
      "outputs": [],
      "source": [
        "trainpath = 'train/doisaked/'\n",
        "x = []\n",
        "trainImg = [trainpath+f for f in os.listdir(trainpath)]\n",
        "#print(trainImg)\n",
        "for i in (trainImg):\n",
        "    if i[-1] != 'e':\n",
        "     x.append(i)\n",
        "     img = cv2.imread(str(i))\n",
        "     img = cv2.resize(img ,(224,224))\n",
        "     raw.append(img)\n",
        "     label.append(1)\n",
        "    "
      ]
    },
    {
      "cell_type": "code",
      "execution_count": 5,
      "metadata": {},
      "outputs": [
        {
          "data": {
            "text/plain": [
              "(51,)"
            ]
          },
          "execution_count": 5,
          "metadata": {},
          "output_type": "execute_result"
        }
      ],
      "source": [
        "(np.array(label)).shape"
      ]
    },
    {
      "cell_type": "code",
      "execution_count": 6,
      "metadata": {},
      "outputs": [
        {
          "data": {
            "text/plain": [
              "(51, 224, 224, 3)"
            ]
          },
          "execution_count": 6,
          "metadata": {},
          "output_type": "execute_result"
        }
      ],
      "source": [
        "(np.array(raw)).shape"
      ]
    },
    {
      "cell_type": "code",
      "execution_count": 7,
      "metadata": {
        "id": "yMWGTyxotPWu"
      },
      "outputs": [],
      "source": [
        "X = np.array(raw)\n",
        "y = np.array(label)"
      ]
    },
    {
      "cell_type": "code",
      "execution_count": 8,
      "metadata": {
        "id": "ZqFZlUFwu9qk"
      },
      "outputs": [],
      "source": [
        "X = X.astype('float32')\n",
        "X /= 255 "
      ]
    },
    {
      "cell_type": "code",
      "execution_count": 9,
      "metadata": {
        "colab": {
          "base_uri": "https://localhost:8080/"
        },
        "id": "YP41akEyvS00",
        "outputId": "1d38d031-4f26-46e0-f3c3-df181932f334"
      },
      "outputs": [
        {
          "data": {
            "text/plain": [
              "((51, 224, 224, 3), (51,))"
            ]
          },
          "execution_count": 9,
          "metadata": {},
          "output_type": "execute_result"
        }
      ],
      "source": [
        "X.shape , y.shape"
      ]
    },
    {
      "cell_type": "code",
      "execution_count": 10,
      "metadata": {
        "id": "1tEmN_sJXAM5"
      },
      "outputs": [],
      "source": [
        "from sklearn.model_selection import train_test_split\n",
        "x_train, x_test, y_train, y_test = train_test_split(X,y, train_size=0.8, random_state=42)"
      ]
    },
    {
      "cell_type": "markdown",
      "metadata": {
        "id": "_4KNu3ziTWAc"
      },
      "source": [
        "#2. สร้างโมเดล (Model create)"
      ]
    },
    {
      "cell_type": "code",
      "execution_count": 35,
      "metadata": {
        "id": "ps3_uOXfwb9o"
      },
      "outputs": [],
      "source": [
        "import tensorflow as tf\n",
        "import keras\n",
        "from keras.models import Sequential\n",
        "from keras.layers import Dense, Dropout, Activation, Flatten\n",
        "from keras.layers import Conv2D, MaxPooling2D\n"
      ]
    },
    {
      "cell_type": "code",
      "execution_count": 36,
      "metadata": {
        "colab": {
          "base_uri": "https://localhost:8080/"
        },
        "id": "OGAeCcBVb4hU",
        "outputId": "6c47a4c0-d566-4e6e-9c58-877a7f756cfa"
      },
      "outputs": [
        {
          "data": {
            "text/plain": [
              "array([[0, 0, 0, ..., 0, 0, 0],\n",
              "       [0, 0, 0, ..., 0, 0, 0],\n",
              "       [0, 0, 0, ..., 0, 0, 0],\n",
              "       ...,\n",
              "       [0, 0, 0, ..., 0, 0, 0],\n",
              "       [0, 0, 0, ..., 0, 0, 0],\n",
              "       [0, 0, 0, ..., 0, 0, 0]])"
            ]
          },
          "execution_count": 36,
          "metadata": {},
          "output_type": "execute_result"
        }
      ],
      "source": [
        "y_test"
      ]
    },
    {
      "cell_type": "code",
      "execution_count": 40,
      "metadata": {
        "id": "x78pV5w5XZ6z"
      },
      "outputs": [],
      "source": [
        "image_size = 128\n",
        "batch_size = 64\n",
        "epochs = 200\n",
        "model = keras.Sequential([\n",
        "        keras.layers.Conv2D(128, (3,3), activation='relu', input_shape=(image_size, image_size, 3)),\n",
        "        keras.layers.MaxPooling2D(pool_size=(2, 2)),\n",
        "        keras.layers.Dropout(0.25),\n",
        "        keras.layers.Conv2D(128,(3,3) , activation='relu'),\n",
        "        keras.layers.MaxPooling2D(pool_size=(2,2 )),\n",
        "        keras.layers.Dropout(0.25),\n",
        "        keras.layers.Conv2D(128,(3,3) , activation='relu'),\n",
        "        keras.layers.MaxPooling2D(pool_size=(2,2 )),\n",
        "        keras.layers.Dropout(0.25),\n",
        "        keras.layers.Dense(16),\n",
        "        keras.layers.Flatten(),\n",
        "\n",
        "        keras.layers.Dense(16, activation='softmax')\n",
        "    ])\n",
        "model.compile(optimizer=tf.keras.optimizers.Adam(learning_rate=0.00001), loss='binary_crossentropy'\n",
        "                , metrics= ['accuracy'])"
      ]
    },
    {
      "cell_type": "markdown",
      "metadata": {
        "id": "1VnQQLSmYDns"
      },
      "source": [
        "#3. สอนโมเดล (Model training)"
      ]
    },
    {
      "cell_type": "code",
      "execution_count": 41,
      "metadata": {
        "colab": {
          "base_uri": "https://localhost:8080/"
        },
        "id": "33_qS22PYE2-",
        "outputId": "6836947a-4883-4d2a-af09-e0692faf4441"
      },
      "outputs": [
        {
          "name": "stdout",
          "output_type": "stream",
          "text": [
            "Epoch 1/200\n"
          ]
        },
        {
          "name": "stderr",
          "output_type": "stream",
          "text": [
            "2022-11-06 19:31:26.392114: I tensorflow/core/grappler/optimizers/custom_graph_optimizer_registry.cc:113] Plugin optimizer for device_type GPU is enabled.\n"
          ]
        },
        {
          "name": "stdout",
          "output_type": "stream",
          "text": [
            "11/11 [==============================] - ETA: 0s - loss: 0.6934 - accuracy: 0.0700"
          ]
        },
        {
          "name": "stderr",
          "output_type": "stream",
          "text": [
            "2022-11-06 19:31:33.972832: I tensorflow/core/grappler/optimizers/custom_graph_optimizer_registry.cc:113] Plugin optimizer for device_type GPU is enabled.\n"
          ]
        },
        {
          "name": "stdout",
          "output_type": "stream",
          "text": [
            "11/11 [==============================] - 8s 546ms/step - loss: 0.6934 - accuracy: 0.0700 - val_loss: 0.6858 - val_accuracy: 0.0625\n",
            "Epoch 2/200\n",
            "11/11 [==============================] - 5s 461ms/step - loss: 0.6670 - accuracy: 0.0641 - val_loss: 0.6733 - val_accuracy: 0.0625\n",
            "Epoch 3/200\n",
            "11/11 [==============================] - 5s 420ms/step - loss: 0.6397 - accuracy: 0.0700 - val_loss: 0.6571 - val_accuracy: 0.0625\n",
            "Epoch 4/200\n",
            "11/11 [==============================] - 5s 422ms/step - loss: 0.6059 - accuracy: 0.0581 - val_loss: 0.6345 - val_accuracy: 0.0417\n",
            "Epoch 5/200\n",
            "11/11 [==============================] - 5s 415ms/step - loss: 0.5616 - accuracy: 0.0760 - val_loss: 0.6030 - val_accuracy: 0.0417\n",
            "Epoch 6/200\n",
            "11/11 [==============================] - 4s 407ms/step - loss: 0.5075 - accuracy: 0.0745 - val_loss: 0.5613 - val_accuracy: 0.0417\n",
            "Epoch 7/200\n",
            "11/11 [==============================] - 5s 415ms/step - loss: 0.4477 - accuracy: 0.0700 - val_loss: 0.5109 - val_accuracy: 0.0417\n",
            "Epoch 8/200\n",
            "11/11 [==============================] - 5s 419ms/step - loss: 0.3879 - accuracy: 0.0522 - val_loss: 0.4555 - val_accuracy: 0.0625\n",
            "Epoch 9/200\n",
            "11/11 [==============================] - 5s 412ms/step - loss: 0.3368 - accuracy: 0.0596 - val_loss: 0.4022 - val_accuracy: 0.0625\n",
            "Epoch 10/200\n",
            "11/11 [==============================] - 4s 401ms/step - loss: 0.2966 - accuracy: 0.0671 - val_loss: 0.3579 - val_accuracy: 0.0521\n",
            "Epoch 11/200\n",
            "11/11 [==============================] - 5s 413ms/step - loss: 0.2727 - accuracy: 0.0596 - val_loss: 0.3258 - val_accuracy: 0.0625\n",
            "Epoch 12/200\n",
            "11/11 [==============================] - 4s 399ms/step - loss: 0.2609 - accuracy: 0.0775 - val_loss: 0.3056 - val_accuracy: 0.0625\n",
            "Epoch 13/200\n",
            "11/11 [==============================] - 4s 404ms/step - loss: 0.2546 - accuracy: 0.0805 - val_loss: 0.2934 - val_accuracy: 0.0625\n",
            "Epoch 14/200\n",
            "11/11 [==============================] - 5s 429ms/step - loss: 0.2521 - accuracy: 0.0820 - val_loss: 0.2873 - val_accuracy: 0.0521\n",
            "Epoch 15/200\n",
            "11/11 [==============================] - 6s 520ms/step - loss: 0.2512 - accuracy: 0.0686 - val_loss: 0.2843 - val_accuracy: 0.0521\n",
            "Epoch 16/200\n",
            "11/11 [==============================] - 5s 439ms/step - loss: 0.2509 - accuracy: 0.0849 - val_loss: 0.2835 - val_accuracy: 0.1042\n",
            "Epoch 17/200\n",
            "11/11 [==============================] - 5s 423ms/step - loss: 0.2500 - accuracy: 0.0924 - val_loss: 0.2834 - val_accuracy: 0.0833\n",
            "Epoch 18/200\n",
            "11/11 [==============================] - 5s 428ms/step - loss: 0.2488 - accuracy: 0.0879 - val_loss: 0.2831 - val_accuracy: 0.0833\n",
            "Epoch 19/200\n",
            "11/11 [==============================] - 5s 425ms/step - loss: 0.2481 - accuracy: 0.0924 - val_loss: 0.2827 - val_accuracy: 0.0938\n",
            "Epoch 20/200\n",
            "11/11 [==============================] - 5s 430ms/step - loss: 0.2483 - accuracy: 0.0864 - val_loss: 0.2825 - val_accuracy: 0.0938\n",
            "Epoch 21/200\n",
            "11/11 [==============================] - 5s 432ms/step - loss: 0.2490 - accuracy: 0.0745 - val_loss: 0.2822 - val_accuracy: 0.1042\n",
            "Epoch 22/200\n",
            "11/11 [==============================] - 5s 427ms/step - loss: 0.2456 - accuracy: 0.1148 - val_loss: 0.2816 - val_accuracy: 0.1042\n",
            "Epoch 23/200\n",
            "11/11 [==============================] - 5s 423ms/step - loss: 0.2466 - accuracy: 0.1267 - val_loss: 0.2816 - val_accuracy: 0.1250\n",
            "Epoch 24/200\n",
            "11/11 [==============================] - 5s 427ms/step - loss: 0.2465 - accuracy: 0.1058 - val_loss: 0.2813 - val_accuracy: 0.1354\n",
            "Epoch 25/200\n",
            "11/11 [==============================] - 5s 422ms/step - loss: 0.2460 - accuracy: 0.1073 - val_loss: 0.2809 - val_accuracy: 0.1458\n",
            "Epoch 26/200\n",
            "11/11 [==============================] - 5s 422ms/step - loss: 0.2450 - accuracy: 0.1207 - val_loss: 0.2806 - val_accuracy: 0.1562\n",
            "Epoch 27/200\n",
            "11/11 [==============================] - 5s 424ms/step - loss: 0.2445 - accuracy: 0.1177 - val_loss: 0.2799 - val_accuracy: 0.1562\n",
            "Epoch 28/200\n",
            "11/11 [==============================] - 5s 425ms/step - loss: 0.2439 - accuracy: 0.1297 - val_loss: 0.2797 - val_accuracy: 0.1458\n",
            "Epoch 29/200\n",
            "11/11 [==============================] - 5s 426ms/step - loss: 0.2437 - accuracy: 0.1133 - val_loss: 0.2796 - val_accuracy: 0.1667\n",
            "Epoch 30/200\n",
            "11/11 [==============================] - 5s 422ms/step - loss: 0.2434 - accuracy: 0.1222 - val_loss: 0.2798 - val_accuracy: 0.1771\n",
            "Epoch 31/200\n",
            "11/11 [==============================] - 5s 426ms/step - loss: 0.2435 - accuracy: 0.1297 - val_loss: 0.2794 - val_accuracy: 0.1667\n",
            "Epoch 32/200\n",
            "11/11 [==============================] - 5s 426ms/step - loss: 0.2422 - accuracy: 0.1207 - val_loss: 0.2786 - val_accuracy: 0.1771\n",
            "Epoch 33/200\n",
            "11/11 [==============================] - 5s 424ms/step - loss: 0.2413 - accuracy: 0.1356 - val_loss: 0.2781 - val_accuracy: 0.1667\n",
            "Epoch 34/200\n",
            "11/11 [==============================] - 5s 426ms/step - loss: 0.2409 - accuracy: 0.1490 - val_loss: 0.2776 - val_accuracy: 0.1771\n",
            "Epoch 35/200\n",
            "11/11 [==============================] - 5s 429ms/step - loss: 0.2406 - accuracy: 0.1461 - val_loss: 0.2772 - val_accuracy: 0.1667\n",
            "Epoch 36/200\n",
            "11/11 [==============================] - 5s 422ms/step - loss: 0.2404 - accuracy: 0.1475 - val_loss: 0.2769 - val_accuracy: 0.1979\n",
            "Epoch 37/200\n",
            "11/11 [==============================] - 5s 430ms/step - loss: 0.2406 - accuracy: 0.1371 - val_loss: 0.2763 - val_accuracy: 0.1979\n",
            "Epoch 38/200\n",
            "11/11 [==============================] - 5s 424ms/step - loss: 0.2401 - accuracy: 0.1446 - val_loss: 0.2766 - val_accuracy: 0.1979\n",
            "Epoch 39/200\n",
            "11/11 [==============================] - 5s 425ms/step - loss: 0.2383 - accuracy: 0.1505 - val_loss: 0.2760 - val_accuracy: 0.2500\n",
            "Epoch 40/200\n",
            "11/11 [==============================] - 5s 426ms/step - loss: 0.2382 - accuracy: 0.1475 - val_loss: 0.2755 - val_accuracy: 0.2292\n",
            "Epoch 41/200\n",
            "11/11 [==============================] - 5s 436ms/step - loss: 0.2377 - accuracy: 0.1624 - val_loss: 0.2752 - val_accuracy: 0.2396\n",
            "Epoch 42/200\n",
            "11/11 [==============================] - 5s 428ms/step - loss: 0.2370 - accuracy: 0.1744 - val_loss: 0.2738 - val_accuracy: 0.2396\n",
            "Epoch 43/200\n",
            "11/11 [==============================] - 5s 438ms/step - loss: 0.2366 - accuracy: 0.1773 - val_loss: 0.2734 - val_accuracy: 0.2604\n",
            "Epoch 44/200\n",
            "11/11 [==============================] - 5s 487ms/step - loss: 0.2355 - accuracy: 0.1565 - val_loss: 0.2740 - val_accuracy: 0.2500\n",
            "Epoch 45/200\n",
            "11/11 [==============================] - 5s 483ms/step - loss: 0.2363 - accuracy: 0.1759 - val_loss: 0.2729 - val_accuracy: 0.2708\n",
            "Epoch 46/200\n",
            "11/11 [==============================] - 5s 493ms/step - loss: 0.2339 - accuracy: 0.1863 - val_loss: 0.2720 - val_accuracy: 0.2708\n",
            "Epoch 47/200\n",
            "11/11 [==============================] - 5s 424ms/step - loss: 0.2345 - accuracy: 0.1803 - val_loss: 0.2711 - val_accuracy: 0.2708\n",
            "Epoch 48/200\n",
            "11/11 [==============================] - 5s 431ms/step - loss: 0.2333 - accuracy: 0.1923 - val_loss: 0.2706 - val_accuracy: 0.2708\n",
            "Epoch 49/200\n",
            "11/11 [==============================] - 5s 432ms/step - loss: 0.2328 - accuracy: 0.1878 - val_loss: 0.2703 - val_accuracy: 0.2812\n",
            "Epoch 50/200\n",
            "11/11 [==============================] - 5s 441ms/step - loss: 0.2323 - accuracy: 0.2161 - val_loss: 0.2696 - val_accuracy: 0.2708\n",
            "Epoch 51/200\n",
            "11/11 [==============================] - 5s 459ms/step - loss: 0.2322 - accuracy: 0.2086 - val_loss: 0.2690 - val_accuracy: 0.2812\n",
            "Epoch 52/200\n",
            "11/11 [==============================] - 5s 432ms/step - loss: 0.2306 - accuracy: 0.2146 - val_loss: 0.2683 - val_accuracy: 0.2917\n",
            "Epoch 53/200\n",
            "11/11 [==============================] - 5s 414ms/step - loss: 0.2309 - accuracy: 0.2146 - val_loss: 0.2672 - val_accuracy: 0.2917\n",
            "Epoch 54/200\n",
            "11/11 [==============================] - 5s 424ms/step - loss: 0.2283 - accuracy: 0.2355 - val_loss: 0.2666 - val_accuracy: 0.2917\n",
            "Epoch 55/200\n",
            "11/11 [==============================] - 5s 461ms/step - loss: 0.2282 - accuracy: 0.2578 - val_loss: 0.2654 - val_accuracy: 0.3125\n",
            "Epoch 56/200\n",
            "11/11 [==============================] - 5s 462ms/step - loss: 0.2278 - accuracy: 0.2340 - val_loss: 0.2648 - val_accuracy: 0.3333\n",
            "Epoch 57/200\n",
            "11/11 [==============================] - 5s 431ms/step - loss: 0.2270 - accuracy: 0.2280 - val_loss: 0.2640 - val_accuracy: 0.3438\n",
            "Epoch 58/200\n",
            "11/11 [==============================] - 5s 427ms/step - loss: 0.2259 - accuracy: 0.2385 - val_loss: 0.2629 - val_accuracy: 0.3542\n",
            "Epoch 59/200\n",
            "11/11 [==============================] - 5s 424ms/step - loss: 0.2257 - accuracy: 0.2489 - val_loss: 0.2620 - val_accuracy: 0.3542\n",
            "Epoch 60/200\n",
            "11/11 [==============================] - 5s 427ms/step - loss: 0.2248 - accuracy: 0.2638 - val_loss: 0.2611 - val_accuracy: 0.3750\n",
            "Epoch 61/200\n",
            "11/11 [==============================] - 5s 427ms/step - loss: 0.2231 - accuracy: 0.2727 - val_loss: 0.2595 - val_accuracy: 0.3854\n",
            "Epoch 62/200\n",
            "11/11 [==============================] - 5s 427ms/step - loss: 0.2233 - accuracy: 0.2444 - val_loss: 0.2589 - val_accuracy: 0.3958\n",
            "Epoch 63/200\n",
            "11/11 [==============================] - 5s 423ms/step - loss: 0.2212 - accuracy: 0.2742 - val_loss: 0.2582 - val_accuracy: 0.4062\n",
            "Epoch 64/200\n",
            "11/11 [==============================] - 5s 423ms/step - loss: 0.2210 - accuracy: 0.2593 - val_loss: 0.2572 - val_accuracy: 0.4062\n",
            "Epoch 65/200\n",
            "11/11 [==============================] - 5s 426ms/step - loss: 0.2192 - accuracy: 0.2772 - val_loss: 0.2548 - val_accuracy: 0.4167\n",
            "Epoch 66/200\n",
            "11/11 [==============================] - 5s 426ms/step - loss: 0.2183 - accuracy: 0.2996 - val_loss: 0.2542 - val_accuracy: 0.4062\n",
            "Epoch 67/200\n",
            "11/11 [==============================] - 5s 429ms/step - loss: 0.2166 - accuracy: 0.3025 - val_loss: 0.2520 - val_accuracy: 0.4479\n",
            "Epoch 68/200\n",
            "11/11 [==============================] - 5s 424ms/step - loss: 0.2152 - accuracy: 0.3070 - val_loss: 0.2506 - val_accuracy: 0.4583\n",
            "Epoch 69/200\n",
            "11/11 [==============================] - 5s 428ms/step - loss: 0.2141 - accuracy: 0.3368 - val_loss: 0.2493 - val_accuracy: 0.4375\n",
            "Epoch 70/200\n",
            "11/11 [==============================] - 5s 433ms/step - loss: 0.2127 - accuracy: 0.3249 - val_loss: 0.2477 - val_accuracy: 0.4688\n",
            "Epoch 71/200\n",
            "11/11 [==============================] - 5s 456ms/step - loss: 0.2118 - accuracy: 0.3323 - val_loss: 0.2455 - val_accuracy: 0.4688\n",
            "Epoch 72/200\n",
            "11/11 [==============================] - 5s 429ms/step - loss: 0.2097 - accuracy: 0.3413 - val_loss: 0.2432 - val_accuracy: 0.4479\n",
            "Epoch 73/200\n",
            "11/11 [==============================] - 5s 434ms/step - loss: 0.2086 - accuracy: 0.3472 - val_loss: 0.2415 - val_accuracy: 0.4271\n",
            "Epoch 74/200\n",
            "11/11 [==============================] - 5s 424ms/step - loss: 0.2053 - accuracy: 0.3860 - val_loss: 0.2395 - val_accuracy: 0.4896\n",
            "Epoch 75/200\n",
            "11/11 [==============================] - 5s 425ms/step - loss: 0.2037 - accuracy: 0.3830 - val_loss: 0.2371 - val_accuracy: 0.5000\n",
            "Epoch 76/200\n",
            "11/11 [==============================] - 5s 426ms/step - loss: 0.2013 - accuracy: 0.4158 - val_loss: 0.2336 - val_accuracy: 0.5104\n",
            "Epoch 77/200\n",
            "11/11 [==============================] - 5s 427ms/step - loss: 0.1997 - accuracy: 0.4083 - val_loss: 0.2311 - val_accuracy: 0.5104\n",
            "Epoch 78/200\n",
            "11/11 [==============================] - 5s 425ms/step - loss: 0.1969 - accuracy: 0.4396 - val_loss: 0.2288 - val_accuracy: 0.5104\n",
            "Epoch 79/200\n",
            "11/11 [==============================] - 5s 425ms/step - loss: 0.1960 - accuracy: 0.4232 - val_loss: 0.2263 - val_accuracy: 0.5312\n",
            "Epoch 80/200\n",
            "11/11 [==============================] - 5s 426ms/step - loss: 0.1940 - accuracy: 0.4352 - val_loss: 0.2241 - val_accuracy: 0.5208\n",
            "Epoch 81/200\n",
            "11/11 [==============================] - 5s 429ms/step - loss: 0.1923 - accuracy: 0.4694 - val_loss: 0.2206 - val_accuracy: 0.5417\n",
            "Epoch 82/200\n",
            "11/11 [==============================] - 5s 424ms/step - loss: 0.1896 - accuracy: 0.4784 - val_loss: 0.2180 - val_accuracy: 0.5625\n",
            "Epoch 83/200\n",
            "11/11 [==============================] - 5s 447ms/step - loss: 0.1869 - accuracy: 0.4724 - val_loss: 0.2152 - val_accuracy: 0.5729\n",
            "Epoch 84/200\n",
            "11/11 [==============================] - 5s 503ms/step - loss: 0.1860 - accuracy: 0.4948 - val_loss: 0.2124 - val_accuracy: 0.5833\n",
            "Epoch 85/200\n",
            "11/11 [==============================] - 6s 544ms/step - loss: 0.1826 - accuracy: 0.4993 - val_loss: 0.2098 - val_accuracy: 0.5833\n",
            "Epoch 86/200\n",
            "11/11 [==============================] - 6s 523ms/step - loss: 0.1811 - accuracy: 0.5112 - val_loss: 0.2067 - val_accuracy: 0.6354\n",
            "Epoch 87/200\n",
            "11/11 [==============================] - 5s 421ms/step - loss: 0.1772 - accuracy: 0.5365 - val_loss: 0.2035 - val_accuracy: 0.6458\n",
            "Epoch 88/200\n",
            "11/11 [==============================] - 5s 415ms/step - loss: 0.1763 - accuracy: 0.5171 - val_loss: 0.2004 - val_accuracy: 0.6562\n",
            "Epoch 89/200\n",
            "11/11 [==============================] - 4s 409ms/step - loss: 0.1735 - accuracy: 0.5618 - val_loss: 0.1968 - val_accuracy: 0.6771\n",
            "Epoch 90/200\n",
            "11/11 [==============================] - 5s 411ms/step - loss: 0.1687 - accuracy: 0.5842 - val_loss: 0.1942 - val_accuracy: 0.6771\n",
            "Epoch 91/200\n",
            "11/11 [==============================] - 5s 412ms/step - loss: 0.1671 - accuracy: 0.6021 - val_loss: 0.1919 - val_accuracy: 0.6875\n",
            "Epoch 92/200\n",
            "11/11 [==============================] - 5s 412ms/step - loss: 0.1655 - accuracy: 0.5827 - val_loss: 0.1879 - val_accuracy: 0.6875\n",
            "Epoch 93/200\n",
            "11/11 [==============================] - 5s 440ms/step - loss: 0.1622 - accuracy: 0.5857 - val_loss: 0.1847 - val_accuracy: 0.6979\n",
            "Epoch 94/200\n",
            "11/11 [==============================] - 5s 436ms/step - loss: 0.1596 - accuracy: 0.6513 - val_loss: 0.1827 - val_accuracy: 0.6979\n",
            "Epoch 95/200\n",
            "11/11 [==============================] - 5s 428ms/step - loss: 0.1576 - accuracy: 0.6215 - val_loss: 0.1798 - val_accuracy: 0.7083\n",
            "Epoch 96/200\n",
            "11/11 [==============================] - 5s 428ms/step - loss: 0.1564 - accuracy: 0.6140 - val_loss: 0.1777 - val_accuracy: 0.7292\n",
            "Epoch 97/200\n",
            "11/11 [==============================] - 5s 446ms/step - loss: 0.1527 - accuracy: 0.6662 - val_loss: 0.1744 - val_accuracy: 0.7292\n",
            "Epoch 98/200\n",
            "11/11 [==============================] - 5s 432ms/step - loss: 0.1483 - accuracy: 0.6796 - val_loss: 0.1695 - val_accuracy: 0.7396\n",
            "Epoch 99/200\n",
            "11/11 [==============================] - 5s 428ms/step - loss: 0.1469 - accuracy: 0.6617 - val_loss: 0.1694 - val_accuracy: 0.7188\n",
            "Epoch 100/200\n",
            "11/11 [==============================] - 5s 438ms/step - loss: 0.1475 - accuracy: 0.6379 - val_loss: 0.1657 - val_accuracy: 0.7708\n",
            "Epoch 101/200\n",
            "11/11 [==============================] - 5s 432ms/step - loss: 0.1446 - accuracy: 0.6528 - val_loss: 0.1649 - val_accuracy: 0.7604\n",
            "Epoch 102/200\n",
            "11/11 [==============================] - 5s 429ms/step - loss: 0.1432 - accuracy: 0.6587 - val_loss: 0.1603 - val_accuracy: 0.7708\n",
            "Epoch 103/200\n",
            "11/11 [==============================] - 5s 431ms/step - loss: 0.1411 - accuracy: 0.6692 - val_loss: 0.1593 - val_accuracy: 0.7917\n",
            "Epoch 104/200\n",
            "11/11 [==============================] - 5s 431ms/step - loss: 0.1376 - accuracy: 0.6915 - val_loss: 0.1574 - val_accuracy: 0.7812\n",
            "Epoch 105/200\n",
            "11/11 [==============================] - 5s 431ms/step - loss: 0.1363 - accuracy: 0.6915 - val_loss: 0.1547 - val_accuracy: 0.7812\n",
            "Epoch 106/200\n",
            "11/11 [==============================] - 5s 428ms/step - loss: 0.1343 - accuracy: 0.6945 - val_loss: 0.1529 - val_accuracy: 0.7917\n",
            "Epoch 107/200\n",
            "11/11 [==============================] - 5s 438ms/step - loss: 0.1299 - accuracy: 0.7079 - val_loss: 0.1503 - val_accuracy: 0.7812\n",
            "Epoch 108/200\n",
            "11/11 [==============================] - 5s 460ms/step - loss: 0.1314 - accuracy: 0.7109 - val_loss: 0.1482 - val_accuracy: 0.8125\n",
            "Epoch 109/200\n",
            "11/11 [==============================] - 5s 443ms/step - loss: 0.1279 - accuracy: 0.6945 - val_loss: 0.1467 - val_accuracy: 0.8229\n",
            "Epoch 110/200\n",
            "11/11 [==============================] - 5s 441ms/step - loss: 0.1285 - accuracy: 0.7228 - val_loss: 0.1443 - val_accuracy: 0.8229\n",
            "Epoch 111/200\n",
            "11/11 [==============================] - 5s 434ms/step - loss: 0.1245 - accuracy: 0.7303 - val_loss: 0.1425 - val_accuracy: 0.8125\n",
            "Epoch 112/200\n",
            "11/11 [==============================] - 5s 428ms/step - loss: 0.1234 - accuracy: 0.7109 - val_loss: 0.1412 - val_accuracy: 0.8229\n",
            "Epoch 113/200\n",
            "11/11 [==============================] - 5s 428ms/step - loss: 0.1212 - accuracy: 0.7347 - val_loss: 0.1389 - val_accuracy: 0.8333\n",
            "Epoch 114/200\n",
            "11/11 [==============================] - 5s 436ms/step - loss: 0.1197 - accuracy: 0.7481 - val_loss: 0.1377 - val_accuracy: 0.8125\n",
            "Epoch 115/200\n",
            "11/11 [==============================] - 5s 436ms/step - loss: 0.1193 - accuracy: 0.7377 - val_loss: 0.1348 - val_accuracy: 0.8125\n",
            "Epoch 116/200\n",
            "11/11 [==============================] - 5s 425ms/step - loss: 0.1181 - accuracy: 0.7422 - val_loss: 0.1343 - val_accuracy: 0.8333\n",
            "Epoch 117/200\n",
            "11/11 [==============================] - 5s 430ms/step - loss: 0.1162 - accuracy: 0.7526 - val_loss: 0.1311 - val_accuracy: 0.8542\n",
            "Epoch 118/200\n",
            "11/11 [==============================] - 5s 455ms/step - loss: 0.1115 - accuracy: 0.7466 - val_loss: 0.1307 - val_accuracy: 0.8438\n",
            "Epoch 119/200\n",
            "11/11 [==============================] - 5s 455ms/step - loss: 0.1120 - accuracy: 0.7779 - val_loss: 0.1289 - val_accuracy: 0.8333\n",
            "Epoch 120/200\n",
            "11/11 [==============================] - 5s 430ms/step - loss: 0.1129 - accuracy: 0.7645 - val_loss: 0.1289 - val_accuracy: 0.8229\n",
            "Epoch 121/200\n",
            "11/11 [==============================] - 5s 462ms/step - loss: 0.1115 - accuracy: 0.7645 - val_loss: 0.1262 - val_accuracy: 0.8333\n",
            "Epoch 122/200\n",
            "11/11 [==============================] - 5s 466ms/step - loss: 0.1068 - accuracy: 0.7914 - val_loss: 0.1272 - val_accuracy: 0.8333\n",
            "Epoch 123/200\n",
            "11/11 [==============================] - 5s 466ms/step - loss: 0.1066 - accuracy: 0.7630 - val_loss: 0.1239 - val_accuracy: 0.8438\n",
            "Epoch 124/200\n",
            "11/11 [==============================] - 5s 437ms/step - loss: 0.1077 - accuracy: 0.7884 - val_loss: 0.1230 - val_accuracy: 0.8438\n",
            "Epoch 125/200\n",
            "11/11 [==============================] - 5s 439ms/step - loss: 0.1031 - accuracy: 0.7988 - val_loss: 0.1212 - val_accuracy: 0.8542\n",
            "Epoch 126/200\n",
            "11/11 [==============================] - 5s 448ms/step - loss: 0.1047 - accuracy: 0.7914 - val_loss: 0.1197 - val_accuracy: 0.8542\n",
            "Epoch 127/200\n",
            "11/11 [==============================] - 5s 424ms/step - loss: 0.1047 - accuracy: 0.7943 - val_loss: 0.1198 - val_accuracy: 0.8333\n",
            "Epoch 128/200\n",
            "11/11 [==============================] - 5s 425ms/step - loss: 0.1015 - accuracy: 0.8003 - val_loss: 0.1183 - val_accuracy: 0.8542\n",
            "Epoch 129/200\n",
            "11/11 [==============================] - 5s 426ms/step - loss: 0.0973 - accuracy: 0.8227 - val_loss: 0.1162 - val_accuracy: 0.8438\n",
            "Epoch 130/200\n",
            "11/11 [==============================] - 5s 425ms/step - loss: 0.0958 - accuracy: 0.8033 - val_loss: 0.1132 - val_accuracy: 0.8646\n",
            "Epoch 131/200\n",
            "11/11 [==============================] - 5s 430ms/step - loss: 0.1002 - accuracy: 0.7943 - val_loss: 0.1159 - val_accuracy: 0.8438\n",
            "Epoch 132/200\n",
            "11/11 [==============================] - 5s 425ms/step - loss: 0.0971 - accuracy: 0.8227 - val_loss: 0.1132 - val_accuracy: 0.8438\n",
            "Epoch 133/200\n",
            "11/11 [==============================] - 5s 426ms/step - loss: 0.0940 - accuracy: 0.8212 - val_loss: 0.1145 - val_accuracy: 0.8542\n",
            "Epoch 134/200\n",
            "11/11 [==============================] - 5s 426ms/step - loss: 0.0955 - accuracy: 0.8167 - val_loss: 0.1123 - val_accuracy: 0.8542\n",
            "Epoch 135/200\n",
            "11/11 [==============================] - 5s 425ms/step - loss: 0.0928 - accuracy: 0.8256 - val_loss: 0.1110 - val_accuracy: 0.8646\n",
            "Epoch 136/200\n",
            "11/11 [==============================] - 5s 426ms/step - loss: 0.0951 - accuracy: 0.8122 - val_loss: 0.1092 - val_accuracy: 0.8542\n",
            "Epoch 137/200\n",
            "11/11 [==============================] - 5s 426ms/step - loss: 0.0922 - accuracy: 0.8346 - val_loss: 0.1086 - val_accuracy: 0.8542\n",
            "Epoch 138/200\n",
            "11/11 [==============================] - 5s 426ms/step - loss: 0.0892 - accuracy: 0.8361 - val_loss: 0.1089 - val_accuracy: 0.8542\n",
            "Epoch 139/200\n",
            "11/11 [==============================] - 5s 428ms/step - loss: 0.0907 - accuracy: 0.8301 - val_loss: 0.1073 - val_accuracy: 0.8646\n",
            "Epoch 140/200\n",
            "11/11 [==============================] - 5s 422ms/step - loss: 0.0867 - accuracy: 0.8554 - val_loss: 0.1064 - val_accuracy: 0.8646\n",
            "Epoch 141/200\n",
            "11/11 [==============================] - 5s 429ms/step - loss: 0.0863 - accuracy: 0.8405 - val_loss: 0.1057 - val_accuracy: 0.8646\n",
            "Epoch 142/200\n",
            "11/11 [==============================] - 5s 428ms/step - loss: 0.0849 - accuracy: 0.8510 - val_loss: 0.1056 - val_accuracy: 0.8438\n",
            "Epoch 143/200\n",
            "11/11 [==============================] - 5s 427ms/step - loss: 0.0845 - accuracy: 0.8554 - val_loss: 0.1034 - val_accuracy: 0.8646\n",
            "Epoch 144/200\n",
            "11/11 [==============================] - 5s 430ms/step - loss: 0.0843 - accuracy: 0.8629 - val_loss: 0.1038 - val_accuracy: 0.8646\n",
            "Epoch 145/200\n",
            "11/11 [==============================] - 5s 426ms/step - loss: 0.0851 - accuracy: 0.8390 - val_loss: 0.1001 - val_accuracy: 0.8646\n",
            "Epoch 146/200\n",
            "11/11 [==============================] - 5s 425ms/step - loss: 0.0824 - accuracy: 0.8495 - val_loss: 0.1020 - val_accuracy: 0.8646\n",
            "Epoch 147/200\n",
            "11/11 [==============================] - 5s 429ms/step - loss: 0.0833 - accuracy: 0.8569 - val_loss: 0.0990 - val_accuracy: 0.8750\n",
            "Epoch 148/200\n",
            "11/11 [==============================] - 5s 429ms/step - loss: 0.0819 - accuracy: 0.8584 - val_loss: 0.1006 - val_accuracy: 0.8646\n",
            "Epoch 149/200\n",
            "11/11 [==============================] - 5s 426ms/step - loss: 0.0805 - accuracy: 0.8510 - val_loss: 0.1001 - val_accuracy: 0.8646\n",
            "Epoch 150/200\n",
            "11/11 [==============================] - 5s 425ms/step - loss: 0.0797 - accuracy: 0.8659 - val_loss: 0.0982 - val_accuracy: 0.8646\n",
            "Epoch 151/200\n",
            "11/11 [==============================] - 5s 434ms/step - loss: 0.0791 - accuracy: 0.8614 - val_loss: 0.0982 - val_accuracy: 0.8646\n",
            "Epoch 152/200\n",
            "11/11 [==============================] - 5s 442ms/step - loss: 0.0784 - accuracy: 0.8644 - val_loss: 0.0974 - val_accuracy: 0.8646\n",
            "Epoch 153/200\n",
            "11/11 [==============================] - 5s 450ms/step - loss: 0.0759 - accuracy: 0.8718 - val_loss: 0.0959 - val_accuracy: 0.8750\n",
            "Epoch 154/200\n",
            "11/11 [==============================] - 5s 474ms/step - loss: 0.0775 - accuracy: 0.8539 - val_loss: 0.0966 - val_accuracy: 0.8646\n",
            "Epoch 155/200\n",
            "11/11 [==============================] - 6s 504ms/step - loss: 0.0753 - accuracy: 0.8748 - val_loss: 0.0953 - val_accuracy: 0.8750\n",
            "Epoch 156/200\n",
            "11/11 [==============================] - 5s 463ms/step - loss: 0.0761 - accuracy: 0.8718 - val_loss: 0.0941 - val_accuracy: 0.8750\n",
            "Epoch 157/200\n",
            "11/11 [==============================] - 5s 453ms/step - loss: 0.0737 - accuracy: 0.8808 - val_loss: 0.0947 - val_accuracy: 0.8646\n",
            "Epoch 158/200\n",
            "11/11 [==============================] - 5s 472ms/step - loss: 0.0747 - accuracy: 0.8718 - val_loss: 0.0925 - val_accuracy: 0.8750\n",
            "Epoch 159/200\n",
            "11/11 [==============================] - 5s 478ms/step - loss: 0.0720 - accuracy: 0.8703 - val_loss: 0.0925 - val_accuracy: 0.8750\n",
            "Epoch 160/200\n",
            "11/11 [==============================] - 5s 476ms/step - loss: 0.0701 - accuracy: 0.8852 - val_loss: 0.0923 - val_accuracy: 0.8750\n",
            "Epoch 161/200\n",
            "11/11 [==============================] - 5s 485ms/step - loss: 0.0709 - accuracy: 0.8793 - val_loss: 0.0903 - val_accuracy: 0.8958\n",
            "Epoch 162/200\n",
            "11/11 [==============================] - 6s 504ms/step - loss: 0.0701 - accuracy: 0.8763 - val_loss: 0.0905 - val_accuracy: 0.8854\n",
            "Epoch 163/200\n",
            "11/11 [==============================] - 6s 531ms/step - loss: 0.0701 - accuracy: 0.8852 - val_loss: 0.0902 - val_accuracy: 0.8958\n",
            "Epoch 164/200\n",
            "11/11 [==============================] - 6s 537ms/step - loss: 0.0685 - accuracy: 0.8867 - val_loss: 0.0905 - val_accuracy: 0.8646\n",
            "Epoch 165/200\n",
            "11/11 [==============================] - 6s 542ms/step - loss: 0.0688 - accuracy: 0.8838 - val_loss: 0.0908 - val_accuracy: 0.8958\n",
            "Epoch 166/200\n",
            "11/11 [==============================] - 6s 565ms/step - loss: 0.0673 - accuracy: 0.8912 - val_loss: 0.0880 - val_accuracy: 0.8958\n",
            "Epoch 167/200\n",
            "11/11 [==============================] - 6s 501ms/step - loss: 0.0688 - accuracy: 0.8882 - val_loss: 0.0878 - val_accuracy: 0.8854\n",
            "Epoch 168/200\n",
            "11/11 [==============================] - 6s 518ms/step - loss: 0.0671 - accuracy: 0.8882 - val_loss: 0.0870 - val_accuracy: 0.8958\n",
            "Epoch 169/200\n",
            "11/11 [==============================] - 6s 523ms/step - loss: 0.0662 - accuracy: 0.9106 - val_loss: 0.0863 - val_accuracy: 0.8854\n",
            "Epoch 170/200\n",
            "11/11 [==============================] - 6s 520ms/step - loss: 0.0643 - accuracy: 0.9031 - val_loss: 0.0861 - val_accuracy: 0.8958\n",
            "Epoch 171/200\n",
            "11/11 [==============================] - 6s 515ms/step - loss: 0.0654 - accuracy: 0.8972 - val_loss: 0.0871 - val_accuracy: 0.8854\n",
            "Epoch 172/200\n",
            "11/11 [==============================] - 6s 515ms/step - loss: 0.0642 - accuracy: 0.8972 - val_loss: 0.0843 - val_accuracy: 0.8958\n",
            "Epoch 173/200\n",
            "11/11 [==============================] - 6s 522ms/step - loss: 0.0630 - accuracy: 0.9031 - val_loss: 0.0852 - val_accuracy: 0.8854\n",
            "Epoch 174/200\n",
            "11/11 [==============================] - 6s 528ms/step - loss: 0.0641 - accuracy: 0.8972 - val_loss: 0.0825 - val_accuracy: 0.8854\n",
            "Epoch 175/200\n",
            "11/11 [==============================] - 6s 506ms/step - loss: 0.0627 - accuracy: 0.9180 - val_loss: 0.0858 - val_accuracy: 0.8958\n",
            "Epoch 176/200\n",
            "11/11 [==============================] - 6s 506ms/step - loss: 0.0618 - accuracy: 0.9016 - val_loss: 0.0834 - val_accuracy: 0.8958\n",
            "Epoch 177/200\n",
            "11/11 [==============================] - 6s 511ms/step - loss: 0.0609 - accuracy: 0.9046 - val_loss: 0.0828 - val_accuracy: 0.8854\n",
            "Epoch 178/200\n",
            "11/11 [==============================] - 6s 509ms/step - loss: 0.0596 - accuracy: 0.9210 - val_loss: 0.0815 - val_accuracy: 0.8854\n",
            "Epoch 179/200\n",
            "11/11 [==============================] - 6s 500ms/step - loss: 0.0595 - accuracy: 0.9151 - val_loss: 0.0828 - val_accuracy: 0.8958\n",
            "Epoch 180/200\n",
            "11/11 [==============================] - 5s 493ms/step - loss: 0.0576 - accuracy: 0.9121 - val_loss: 0.0805 - val_accuracy: 0.8958\n",
            "Epoch 181/200\n",
            "11/11 [==============================] - 5s 492ms/step - loss: 0.0599 - accuracy: 0.9165 - val_loss: 0.0811 - val_accuracy: 0.9062\n",
            "Epoch 182/200\n",
            "11/11 [==============================] - 5s 490ms/step - loss: 0.0587 - accuracy: 0.9091 - val_loss: 0.0800 - val_accuracy: 0.8854\n",
            "Epoch 183/200\n",
            "11/11 [==============================] - 5s 488ms/step - loss: 0.0571 - accuracy: 0.9180 - val_loss: 0.0808 - val_accuracy: 0.8958\n",
            "Epoch 184/200\n",
            "11/11 [==============================] - 5s 489ms/step - loss: 0.0573 - accuracy: 0.9180 - val_loss: 0.0800 - val_accuracy: 0.8958\n",
            "Epoch 185/200\n",
            "11/11 [==============================] - 5s 494ms/step - loss: 0.0560 - accuracy: 0.9225 - val_loss: 0.0790 - val_accuracy: 0.8958\n",
            "Epoch 186/200\n",
            "11/11 [==============================] - 5s 472ms/step - loss: 0.0570 - accuracy: 0.9121 - val_loss: 0.0798 - val_accuracy: 0.8958\n",
            "Epoch 187/200\n",
            "11/11 [==============================] - 5s 467ms/step - loss: 0.0542 - accuracy: 0.9225 - val_loss: 0.0781 - val_accuracy: 0.8958\n",
            "Epoch 188/200\n",
            "11/11 [==============================] - 5s 475ms/step - loss: 0.0549 - accuracy: 0.9240 - val_loss: 0.0785 - val_accuracy: 0.8854\n",
            "Epoch 189/200\n",
            "11/11 [==============================] - 5s 472ms/step - loss: 0.0536 - accuracy: 0.9270 - val_loss: 0.0770 - val_accuracy: 0.9062\n",
            "Epoch 190/200\n",
            "11/11 [==============================] - 5s 466ms/step - loss: 0.0529 - accuracy: 0.9180 - val_loss: 0.0773 - val_accuracy: 0.8958\n",
            "Epoch 191/200\n",
            "11/11 [==============================] - 5s 469ms/step - loss: 0.0530 - accuracy: 0.9195 - val_loss: 0.0778 - val_accuracy: 0.8958\n",
            "Epoch 192/200\n",
            "11/11 [==============================] - 5s 467ms/step - loss: 0.0519 - accuracy: 0.9314 - val_loss: 0.0752 - val_accuracy: 0.9062\n",
            "Epoch 193/200\n",
            "11/11 [==============================] - 5s 464ms/step - loss: 0.0521 - accuracy: 0.9329 - val_loss: 0.0770 - val_accuracy: 0.8958\n",
            "Epoch 194/200\n",
            "11/11 [==============================] - 5s 461ms/step - loss: 0.0511 - accuracy: 0.9300 - val_loss: 0.0757 - val_accuracy: 0.8958\n",
            "Epoch 195/200\n",
            "11/11 [==============================] - 5s 459ms/step - loss: 0.0518 - accuracy: 0.9285 - val_loss: 0.0751 - val_accuracy: 0.8958\n",
            "Epoch 196/200\n",
            "11/11 [==============================] - 5s 457ms/step - loss: 0.0509 - accuracy: 0.9225 - val_loss: 0.0742 - val_accuracy: 0.9062\n",
            "Epoch 197/200\n",
            "11/11 [==============================] - 5s 458ms/step - loss: 0.0494 - accuracy: 0.9285 - val_loss: 0.0741 - val_accuracy: 0.8958\n",
            "Epoch 198/200\n",
            "11/11 [==============================] - 5s 461ms/step - loss: 0.0502 - accuracy: 0.9285 - val_loss: 0.0743 - val_accuracy: 0.8854\n",
            "Epoch 199/200\n",
            "11/11 [==============================] - 5s 458ms/step - loss: 0.0493 - accuracy: 0.9374 - val_loss: 0.0723 - val_accuracy: 0.8958\n",
            "Epoch 200/200\n",
            "11/11 [==============================] - 5s 455ms/step - loss: 0.0501 - accuracy: 0.9210 - val_loss: 0.0731 - val_accuracy: 0.8958\n"
          ]
        }
      ],
      "source": [
        "history = model.fit(x_train, y_train ,batch_size=batch_size, epochs=epochs ,validation_data=(x_test, y_test))\n"
      ]
    },
    {
      "cell_type": "markdown",
      "metadata": {
        "id": "uFNMXcnJHDRJ"
      },
      "source": [
        "\n",
        "\n",
        "#4ทดสอบโมเดล (Model Evaluation)"
      ]
    },
    {
      "cell_type": "code",
      "execution_count": 42,
      "metadata": {
        "colab": {
          "base_uri": "https://localhost:8080/",
          "height": 573
        },
        "id": "_JbalTDfavFE",
        "outputId": "fec754a3-b585-4875-9f86-2ba0fd1c8dc4"
      },
      "outputs": [
        {
          "data": {
            "image/png": "[encoded data removed]",
            "text/plain": [
              "<Figure size 432x288 with 1 Axes>"
            ]
          },
          "metadata": {
            "needs_background": "light"
          },
          "output_type": "display_data"
        },
        {
          "data": {
            "image/png": "[encoded data removed]",
            "text/plain": [
              "<Figure size 432x288 with 1 Axes>"
            ]
          },
          "metadata": {
            "needs_background": "light"
          },
          "output_type": "display_data"
        }
      ],
      "source": [
        "import matplotlib.pyplot as plt\n",
        "plt.plot(history.history['accuracy'])\n",
        "plt.plot(history.history['val_accuracy'])\n",
        "plt.title('model accuracy')\n",
        "plt.ylabel('accuracy')\n",
        "plt.xlabel('epoch')\n",
        "plt.legend(['train', 'validation'], loc='upper left')\n",
        "plt.show()\n",
        "# \"Loss\"\n",
        "plt.plot(history.history['loss'])\n",
        "plt.plot(history.history['val_loss'])\n",
        "plt.title('model loss')\n",
        "plt.ylabel('loss')\n",
        "plt.xlabel('epoch')\n",
        "plt.legend(['train', 'validation'], loc='upper left')\n",
        "plt.show()"
      ]
    },
    {
      "cell_type": "code",
      "execution_count": null,
      "metadata": {},
      "outputs": [],
      "source": [
        "def cnn_pred(img_sign):\n",
        "    #img = cv2.imread('/Users/srisuphadith/cnn/testt/Tung/Tung4_jpg.rf.6ec3a4a1aa16eb74e0582a76f8ea59c8.jpg')\n",
        "    img = cv2.resize(img_sign,(128,128))\n",
        "    rimg = np.array(img)\n",
        "    rimg = rimg.astype('float32')\n",
        "    rimg /= 255\n",
        "    rimg = np.reshape(rimg ,(1,128,128,3))\n",
        "    predict = model.predict(rimg)      \n",
        "    print(predict)\n",
        "    cn = predict[0][0]\n",
        "    c = 0\n",
        "    for i,x in enumerate(predict[0]):\n",
        "        if x > cn:\n",
        "            cn = x\n",
        "            c = i\n",
        "    print(cn,c)\n",
        "    l = \"\"\n",
        "    if c == 0:\n",
        "      l = 'Bosang'       \n",
        "    elif c == 1:\n",
        "      l = 'Maerim'\n",
        "    elif c == 2:\n",
        "      l = 'Saimai'\n",
        "    elif c == 3:\n",
        "      l = 'Sansai'\n",
        "    elif c == 4:\n",
        "      l = 'Bankad'\n",
        "    elif c == 5:\n",
        "      l = 'Doisaket'\n",
        "    elif c == 6:\n",
        "      l = 'Jomtong'\n",
        "    elif c == 7:\n",
        "      l = 'Kuan'\n",
        "    elif c == 8:\n",
        "      l = 'Maetang'\n",
        "    elif c == 9:\n",
        "      l = 'Makam'\n",
        "    elif c == 10:\n",
        "      l = 'Nongtong'\n",
        "    elif c == 11:\n",
        "      l = 'Sanhot'\n",
        "    elif c == 12:\n",
        "      l = 'Tung'\n",
        "    elif c == 13:\n",
        "      l = 'Viang'\n",
        "    elif c == 14:\n",
        "      l = 'Sankampang'\n",
        "    elif c == 15:\n",
        "      l = 'Sanpa'\n",
        "    print(l)\n"
      ]
    },
    {
      "cell_type": "code",
      "execution_count": 70,
      "metadata": {},
      "outputs": [
        {
          "name": "stdout",
          "output_type": "stream",
          "text": [
            "1/1 [==============================] - 0s 79ms/step\n",
            "[[4.9929167e-06 1.6346792e-04 1.0236003e-03 1.1116582e-05 4.4701184e-05\n",
            "  7.2910694e-07 4.4142125e-05 5.5319539e-05 6.5176158e-05 4.7952943e-03\n",
            "  2.1950502e-06 2.6442771e-04 9.9335313e-01 1.0357473e-05 7.0456685e-05\n",
            "  9.0906404e-05]]\n",
            "0.9933531 12\n",
            "Tung\n"
          ]
        }
      ],
      "source": [
        "img = cv2.imread('/Users/srisuphadith/cnn/testt/Tung/Tung4_jpg.rf.6ec3a4a1aa16eb74e0582a76f8ea59c8.jpg')\n",
        "img = cv2.resize(img ,(128,128))\n",
        "rimg = np.array(img)\n",
        "rimg = rimg.astype('float32')\n",
        "rimg /= 255\n",
        "rimg = np.reshape(rimg ,(1,128,128,3))\n",
        "predict = model.predict(rimg)      \n",
        "print(predict)\n",
        "cn = predict[0][0]\n",
        "c = 0\n",
        "for i,x in enumerate(predict[0]):\n",
        "    if x > cn:\n",
        "        cn = x\n",
        "        c = i\n",
        "print(cn,c)\n",
        "l = \"\"\n",
        "if c == 0:\n",
        "  l = 'Bosang'       \n",
        "elif c == 1:\n",
        "  l = 'Maerim'\n",
        "elif c == 2:\n",
        "  l = 'Saimai'\n",
        "elif c == 3:\n",
        "  l = 'Sansai'\n",
        "elif c == 4:\n",
        "  l = 'Bankad'\n",
        "elif c == 5:\n",
        "  l = 'Doisaket'\n",
        "elif c == 6:\n",
        "  l = 'Jomtong'\n",
        "elif c == 7:\n",
        "  l = 'Kuan'\n",
        "elif c == 8:\n",
        "  l = 'Maetang'\n",
        "elif c == 9:\n",
        "  l = 'Makam'\n",
        "elif c == 10:\n",
        "  l = 'Nongtong'\n",
        "elif c == 11:\n",
        "  l = 'Sanhot'\n",
        "elif c == 12:\n",
        "  l = 'Tung'\n",
        "elif c == 13:\n",
        "  l = 'Viang'\n",
        "elif c == 14:\n",
        "  l = 'Sankampang'\n",
        "elif c == 15:\n",
        "  l = 'Sanpa'\n",
        "print(l)"
      ]
    },
    {
      "cell_type": "code",
      "execution_count": 20,
      "metadata": {
        "colab": {
          "base_uri": "https://localhost:8080/",
          "height": 267
        },
        "id": "m9mx4Qw8ayPj",
        "outputId": "fb564e52-8c8d-46b1-93ec-575f240ffdaf"
      },
      "outputs": [
        {
          "ename": "NotADirectoryError",
          "evalue": "[Errno 20] Not a directory: 'test/.DS_Store'",
          "output_type": "error",
          "traceback": [
            "\u001b[0;31m---------------------------------------------------------------------------\u001b[0m",
            "\u001b[0;31mNotADirectoryError\u001b[0m                        Traceback (most recent call last)",
            "\u001b[1;32m/Users/srisuphadith/cnn/Bus_v_1.ipynb Cell 23\u001b[0m in \u001b[0;36m<cell line: 2>\u001b[0;34m()\u001b[0m\n\u001b[1;32m      <a href='vscode-notebook-cell:/Users/srisuphadith/cnn/Bus_v_1.ipynb#X31sZmlsZQ%3D%3D?line=0'>1</a>\u001b[0m testpath \u001b[39m=\u001b[39m \u001b[39m'\u001b[39m\u001b[39mtest/\u001b[39m\u001b[39m'\u001b[39m\n\u001b[0;32m----> <a href='vscode-notebook-cell:/Users/srisuphadith/cnn/Bus_v_1.ipynb#X31sZmlsZQ%3D%3D?line=1'>2</a>\u001b[0m testImg \u001b[39m=\u001b[39m [testpath\u001b[39m+\u001b[39mf \u001b[39mfor\u001b[39;00m f \u001b[39min\u001b[39;00m os\u001b[39m.\u001b[39mlistdir(testpath) \u001b[39mif\u001b[39;00m os\u001b[39m.\u001b[39mlistdir(join(testpath, f))]\n\u001b[1;32m      <a href='vscode-notebook-cell:/Users/srisuphadith/cnn/Bus_v_1.ipynb#X31sZmlsZQ%3D%3D?line=2'>3</a>\u001b[0m rimg \u001b[39m=\u001b[39m []\n\u001b[1;32m      <a href='vscode-notebook-cell:/Users/srisuphadith/cnn/Bus_v_1.ipynb#X31sZmlsZQ%3D%3D?line=3'>4</a>\u001b[0m \u001b[39mfor\u001b[39;00m imagePath \u001b[39min\u001b[39;00m (testImg):\n",
            "\u001b[1;32m/Users/srisuphadith/cnn/Bus_v_1.ipynb Cell 23\u001b[0m in \u001b[0;36m<listcomp>\u001b[0;34m(.0)\u001b[0m\n\u001b[1;32m      <a href='vscode-notebook-cell:/Users/srisuphadith/cnn/Bus_v_1.ipynb#X31sZmlsZQ%3D%3D?line=0'>1</a>\u001b[0m testpath \u001b[39m=\u001b[39m \u001b[39m'\u001b[39m\u001b[39mtest/\u001b[39m\u001b[39m'\u001b[39m\n\u001b[0;32m----> <a href='vscode-notebook-cell:/Users/srisuphadith/cnn/Bus_v_1.ipynb#X31sZmlsZQ%3D%3D?line=1'>2</a>\u001b[0m testImg \u001b[39m=\u001b[39m [testpath\u001b[39m+\u001b[39mf \u001b[39mfor\u001b[39;00m f \u001b[39min\u001b[39;00m os\u001b[39m.\u001b[39mlistdir(testpath) \u001b[39mif\u001b[39;00m os\u001b[39m.\u001b[39;49mlistdir(join(testpath, f))]\n\u001b[1;32m      <a href='vscode-notebook-cell:/Users/srisuphadith/cnn/Bus_v_1.ipynb#X31sZmlsZQ%3D%3D?line=2'>3</a>\u001b[0m rimg \u001b[39m=\u001b[39m []\n\u001b[1;32m      <a href='vscode-notebook-cell:/Users/srisuphadith/cnn/Bus_v_1.ipynb#X31sZmlsZQ%3D%3D?line=3'>4</a>\u001b[0m \u001b[39mfor\u001b[39;00m imagePath \u001b[39min\u001b[39;00m (testImg):\n",
            "\u001b[0;31mNotADirectoryError\u001b[0m: [Errno 20] Not a directory: 'test/.DS_Store'"
          ]
        }
      ],
      "source": [
        "testpath = 'test/'\n",
        "testImg = [testpath+f for f in os.listdir(testpath) if os.listdir(join(testpath, f))]\n",
        "rimg = []\n",
        "for imagePath in (testImg):\n",
        "    for item in (os.listdir(imagePath)):\n",
        "        file = os.path.join(imagePath, item)\n",
        "        print(file)\n",
        "        if file[-1]== \"g\":\n",
        "           \n",
        "          img = cv2.imread(file)\n",
        "          img = cv2.resize(img ,(224,224))\n",
        "          rimg = np.array(img)\n",
        "          rimg = rimg.astype('float32')\n",
        "          rimg /= 255\n",
        "          rimg = np.reshape(rimg ,(1,224,224,3))\n",
        "          predict = model.predict(rimg)\n",
        "          \n",
        "          print(predict)\n",
        "          #plt.imshow(ori)\n",
        "          plt.show()"
      ]
    },
    {
      "cell_type": "code",
      "execution_count": 46,
      "metadata": {
        "colab": {
          "base_uri": "https://localhost:8080/"
        },
        "id": "LdfaZUd4rNF3",
        "outputId": "864b857a-6147-4650-a71e-fb8233af35d5"
      },
      "outputs": [
        {
          "name": "stdout",
          "output_type": "stream",
          "text": [
            "3/3 [==============================] - 0s 73ms/step\n"
          ]
        },
        {
          "ename": "ValueError",
          "evalue": "Classification metrics can't handle a mix of multilabel-indicator and continuous-multioutput targets",
          "output_type": "error",
          "traceback": [
            "\u001b[0;31m---------------------------------------------------------------------------\u001b[0m",
            "\u001b[0;31mValueError\u001b[0m                                Traceback (most recent call last)",
            "\u001b[1;32m/Users/srisuphadith/cnn/Bus_v_1.ipynb Cell 32\u001b[0m in \u001b[0;36m<cell line: 3>\u001b[0;34m()\u001b[0m\n\u001b[1;32m      <a href='vscode-notebook-cell:/Users/srisuphadith/cnn/Bus_v_1.ipynb#X32sZmlsZQ%3D%3D?line=0'>1</a>\u001b[0m \u001b[39mimport\u001b[39;00m \u001b[39msklearn\u001b[39;00m\u001b[39m.\u001b[39;00m\u001b[39mmetrics\u001b[39;00m \u001b[39mas\u001b[39;00m \u001b[39mmetrics\u001b[39;00m\n\u001b[1;32m      <a href='vscode-notebook-cell:/Users/srisuphadith/cnn/Bus_v_1.ipynb#X32sZmlsZQ%3D%3D?line=1'>2</a>\u001b[0m predicted_classes \u001b[39m=\u001b[39m (model\u001b[39m.\u001b[39mpredict(x_test))\n\u001b[0;32m----> <a href='vscode-notebook-cell:/Users/srisuphadith/cnn/Bus_v_1.ipynb#X32sZmlsZQ%3D%3D?line=2'>3</a>\u001b[0m report \u001b[39m=\u001b[39m metrics\u001b[39m.\u001b[39;49mclassification_report(y_test, predicted_classes)\n\u001b[1;32m      <a href='vscode-notebook-cell:/Users/srisuphadith/cnn/Bus_v_1.ipynb#X32sZmlsZQ%3D%3D?line=3'>4</a>\u001b[0m \u001b[39mprint\u001b[39m(report)\n",
            "File \u001b[0;32m/opt/miniconda3/envs/AI2022/lib/python3.9/site-packages/sklearn/metrics/_classification.py:2125\u001b[0m, in \u001b[0;36mclassification_report\u001b[0;34m(y_true, y_pred, labels, target_names, sample_weight, digits, output_dict, zero_division)\u001b[0m\n\u001b[1;32m   2010\u001b[0m \u001b[39mdef\u001b[39;00m \u001b[39mclassification_report\u001b[39m(\n\u001b[1;32m   2011\u001b[0m     y_true,\n\u001b[1;32m   2012\u001b[0m     y_pred,\n\u001b[0;32m   (...)\u001b[0m\n\u001b[1;32m   2019\u001b[0m     zero_division\u001b[39m=\u001b[39m\u001b[39m\"\u001b[39m\u001b[39mwarn\u001b[39m\u001b[39m\"\u001b[39m,\n\u001b[1;32m   2020\u001b[0m ):\n\u001b[1;32m   2021\u001b[0m     \u001b[39m\"\"\"Build a text report showing the main classification metrics.\u001b[39;00m\n\u001b[1;32m   2022\u001b[0m \n\u001b[1;32m   2023\u001b[0m \u001b[39m    Read more in the :ref:`User Guide <classification_report>`.\u001b[39;00m\n\u001b[0;32m   (...)\u001b[0m\n\u001b[1;32m   2122\u001b[0m \u001b[39m    <BLANKLINE>\u001b[39;00m\n\u001b[1;32m   2123\u001b[0m \u001b[39m    \"\"\"\u001b[39;00m\n\u001b[0;32m-> 2125\u001b[0m     y_type, y_true, y_pred \u001b[39m=\u001b[39m _check_targets(y_true, y_pred)\n\u001b[1;32m   2127\u001b[0m     \u001b[39mif\u001b[39;00m labels \u001b[39mis\u001b[39;00m \u001b[39mNone\u001b[39;00m:\n\u001b[1;32m   2128\u001b[0m         labels \u001b[39m=\u001b[39m unique_labels(y_true, y_pred)\n",
            "File \u001b[0;32m/opt/miniconda3/envs/AI2022/lib/python3.9/site-packages/sklearn/metrics/_classification.py:93\u001b[0m, in \u001b[0;36m_check_targets\u001b[0;34m(y_true, y_pred)\u001b[0m\n\u001b[1;32m     90\u001b[0m     y_type \u001b[39m=\u001b[39m {\u001b[39m\"\u001b[39m\u001b[39mmulticlass\u001b[39m\u001b[39m\"\u001b[39m}\n\u001b[1;32m     92\u001b[0m \u001b[39mif\u001b[39;00m \u001b[39mlen\u001b[39m(y_type) \u001b[39m>\u001b[39m \u001b[39m1\u001b[39m:\n\u001b[0;32m---> 93\u001b[0m     \u001b[39mraise\u001b[39;00m \u001b[39mValueError\u001b[39;00m(\n\u001b[1;32m     94\u001b[0m         \u001b[39m\"\u001b[39m\u001b[39mClassification metrics can\u001b[39m\u001b[39m'\u001b[39m\u001b[39mt handle a mix of \u001b[39m\u001b[39m{0}\u001b[39;00m\u001b[39m and \u001b[39m\u001b[39m{1}\u001b[39;00m\u001b[39m targets\u001b[39m\u001b[39m\"\u001b[39m\u001b[39m.\u001b[39mformat(\n\u001b[1;32m     95\u001b[0m             type_true, type_pred\n\u001b[1;32m     96\u001b[0m         )\n\u001b[1;32m     97\u001b[0m     )\n\u001b[1;32m     99\u001b[0m \u001b[39m# We can't have more than one value on y_type => The set is no more needed\u001b[39;00m\n\u001b[1;32m    100\u001b[0m y_type \u001b[39m=\u001b[39m y_type\u001b[39m.\u001b[39mpop()\n",
            "\u001b[0;31mValueError\u001b[0m: Classification metrics can't handle a mix of multilabel-indicator and continuous-multioutput targets"
          ]
        }
      ],
      "source": [
        "import sklearn.metrics as metrics\n",
        "predicted_classes = (model.predict(x_test))\n",
        "report = metrics.classification_report(y_test, predicted_classes)\n",
        "print(report)    "
      ]
    },
    {
      "cell_type": "code",
      "execution_count": 47,
      "metadata": {
        "colab": {
          "base_uri": "https://localhost:8080/"
        },
        "id": "zpieDeRmlXdu",
        "outputId": "f4328904-c8f8-4fb8-f50c-74d9d34c06cf"
      },
      "outputs": [
        {
          "data": {
            "text/plain": [
              "(array([[0, 0, 0, ..., 0, 0, 0],\n",
              "        [0, 0, 0, ..., 0, 0, 0],\n",
              "        [0, 0, 0, ..., 0, 0, 0],\n",
              "        ...,\n",
              "        [0, 0, 0, ..., 0, 0, 0],\n",
              "        [0, 0, 0, ..., 0, 0, 0],\n",
              "        [0, 0, 0, ..., 0, 0, 0]]),\n",
              " array([[1.58108785e-04, 3.21693660e-05, 9.02006635e-04, ...,\n",
              "         9.02195779e-07, 1.94521044e-09, 1.22960140e-08],\n",
              "        [1.27582192e-01, 5.05283999e-04, 5.47763892e-02, ...,\n",
              "         3.21946340e-04, 1.94953187e-09, 1.07036700e-04],\n",
              "        [6.24592742e-03, 1.21920537e-02, 1.72008201e-02, ...,\n",
              "         4.71058674e-02, 9.29048692e-04, 8.39312002e-03],\n",
              "        ...,\n",
              "        [4.66185622e-03, 5.98029942e-07, 8.28837082e-02, ...,\n",
              "         4.26802643e-07, 1.92887321e-11, 1.42218605e-05],\n",
              "        [9.17324331e-03, 2.16794675e-07, 3.98313142e-02, ...,\n",
              "         2.15192131e-06, 1.22939076e-10, 4.70006707e-05],\n",
              "        [1.48472504e-03, 2.36444521e-06, 1.00109413e-01, ...,\n",
              "         3.64226662e-06, 3.81237986e-10, 2.39117526e-06]], dtype=float32))"
            ]
          },
          "execution_count": 47,
          "metadata": {},
          "output_type": "execute_result"
        }
      ],
      "source": [
        "y_test , predicted_classes"
      ]
    },
    {
      "cell_type": "code",
      "execution_count": 48,
      "metadata": {
        "colab": {
          "base_uri": "https://localhost:8080/",
          "height": 288
        },
        "id": "oJE1ixc9wDGe",
        "outputId": "07d4ced6-488a-4c09-f01b-948baca9ac55"
      },
      "outputs": [
        {
          "ename": "ValueError",
          "evalue": "Classification metrics can't handle a mix of multilabel-indicator and continuous-multioutput targets",
          "output_type": "error",
          "traceback": [
            "\u001b[0;31m---------------------------------------------------------------------------\u001b[0m",
            "\u001b[0;31mValueError\u001b[0m                                Traceback (most recent call last)",
            "\u001b[1;32m/Users/srisuphadith/cnn/Bus_v_1.ipynb Cell 34\u001b[0m in \u001b[0;36m<cell line: 3>\u001b[0;34m()\u001b[0m\n\u001b[1;32m      <a href='vscode-notebook-cell:/Users/srisuphadith/cnn/Bus_v_1.ipynb#X34sZmlsZQ%3D%3D?line=0'>1</a>\u001b[0m \u001b[39mfrom\u001b[39;00m \u001b[39msklearn\u001b[39;00m\u001b[39m.\u001b[39;00m\u001b[39mmetrics\u001b[39;00m \u001b[39mimport\u001b[39;00m plot_confusion_matrix\n\u001b[1;32m      <a href='vscode-notebook-cell:/Users/srisuphadith/cnn/Bus_v_1.ipynb#X34sZmlsZQ%3D%3D?line=1'>2</a>\u001b[0m \u001b[39mimport\u001b[39;00m \u001b[39mseaborn\u001b[39;00m \u001b[39mas\u001b[39;00m \u001b[39msns\u001b[39;00m\n\u001b[0;32m----> <a href='vscode-notebook-cell:/Users/srisuphadith/cnn/Bus_v_1.ipynb#X34sZmlsZQ%3D%3D?line=2'>3</a>\u001b[0m conf \u001b[39m=\u001b[39m metrics\u001b[39m.\u001b[39;49mconfusion_matrix(y_test, predicted_classes)\n\u001b[1;32m      <a href='vscode-notebook-cell:/Users/srisuphadith/cnn/Bus_v_1.ipynb#X34sZmlsZQ%3D%3D?line=3'>4</a>\u001b[0m sns\u001b[39m.\u001b[39mheatmap(conf, annot\u001b[39m=\u001b[39m\u001b[39mTrue\u001b[39;00m )\n",
            "File \u001b[0;32m/opt/miniconda3/envs/AI2022/lib/python3.9/site-packages/sklearn/metrics/_classification.py:307\u001b[0m, in \u001b[0;36mconfusion_matrix\u001b[0;34m(y_true, y_pred, labels, sample_weight, normalize)\u001b[0m\n\u001b[1;32m    222\u001b[0m \u001b[39mdef\u001b[39;00m \u001b[39mconfusion_matrix\u001b[39m(\n\u001b[1;32m    223\u001b[0m     y_true, y_pred, \u001b[39m*\u001b[39m, labels\u001b[39m=\u001b[39m\u001b[39mNone\u001b[39;00m, sample_weight\u001b[39m=\u001b[39m\u001b[39mNone\u001b[39;00m, normalize\u001b[39m=\u001b[39m\u001b[39mNone\u001b[39;00m\n\u001b[1;32m    224\u001b[0m ):\n\u001b[1;32m    225\u001b[0m     \u001b[39m\"\"\"Compute confusion matrix to evaluate the accuracy of a classification.\u001b[39;00m\n\u001b[1;32m    226\u001b[0m \n\u001b[1;32m    227\u001b[0m \u001b[39m    By definition a confusion matrix :math:`C` is such that :math:`C_{i, j}`\u001b[39;00m\n\u001b[0;32m   (...)\u001b[0m\n\u001b[1;32m    305\u001b[0m \u001b[39m    (0, 2, 1, 1)\u001b[39;00m\n\u001b[1;32m    306\u001b[0m \u001b[39m    \"\"\"\u001b[39;00m\n\u001b[0;32m--> 307\u001b[0m     y_type, y_true, y_pred \u001b[39m=\u001b[39m _check_targets(y_true, y_pred)\n\u001b[1;32m    308\u001b[0m     \u001b[39mif\u001b[39;00m y_type \u001b[39mnot\u001b[39;00m \u001b[39min\u001b[39;00m (\u001b[39m\"\u001b[39m\u001b[39mbinary\u001b[39m\u001b[39m\"\u001b[39m, \u001b[39m\"\u001b[39m\u001b[39mmulticlass\u001b[39m\u001b[39m\"\u001b[39m):\n\u001b[1;32m    309\u001b[0m         \u001b[39mraise\u001b[39;00m \u001b[39mValueError\u001b[39;00m(\u001b[39m\"\u001b[39m\u001b[39m%s\u001b[39;00m\u001b[39m is not supported\u001b[39m\u001b[39m\"\u001b[39m \u001b[39m%\u001b[39m y_type)\n",
            "File \u001b[0;32m/opt/miniconda3/envs/AI2022/lib/python3.9/site-packages/sklearn/metrics/_classification.py:93\u001b[0m, in \u001b[0;36m_check_targets\u001b[0;34m(y_true, y_pred)\u001b[0m\n\u001b[1;32m     90\u001b[0m     y_type \u001b[39m=\u001b[39m {\u001b[39m\"\u001b[39m\u001b[39mmulticlass\u001b[39m\u001b[39m\"\u001b[39m}\n\u001b[1;32m     92\u001b[0m \u001b[39mif\u001b[39;00m \u001b[39mlen\u001b[39m(y_type) \u001b[39m>\u001b[39m \u001b[39m1\u001b[39m:\n\u001b[0;32m---> 93\u001b[0m     \u001b[39mraise\u001b[39;00m \u001b[39mValueError\u001b[39;00m(\n\u001b[1;32m     94\u001b[0m         \u001b[39m\"\u001b[39m\u001b[39mClassification metrics can\u001b[39m\u001b[39m'\u001b[39m\u001b[39mt handle a mix of \u001b[39m\u001b[39m{0}\u001b[39;00m\u001b[39m and \u001b[39m\u001b[39m{1}\u001b[39;00m\u001b[39m targets\u001b[39m\u001b[39m\"\u001b[39m\u001b[39m.\u001b[39mformat(\n\u001b[1;32m     95\u001b[0m             type_true, type_pred\n\u001b[1;32m     96\u001b[0m         )\n\u001b[1;32m     97\u001b[0m     )\n\u001b[1;32m     99\u001b[0m \u001b[39m# We can't have more than one value on y_type => The set is no more needed\u001b[39;00m\n\u001b[1;32m    100\u001b[0m y_type \u001b[39m=\u001b[39m y_type\u001b[39m.\u001b[39mpop()\n",
            "\u001b[0;31mValueError\u001b[0m: Classification metrics can't handle a mix of multilabel-indicator and continuous-multioutput targets"
          ]
        }
      ],
      "source": [
        "\n",
        "from sklearn.metrics import plot_confusion_matrix\n",
        "import seaborn as sns\n",
        "conf = metrics.confusion_matrix(y_test, predicted_classes)\n",
        "sns.heatmap(conf, annot=True )\n",
        "#"
      ]
    },
    {
      "cell_type": "code",
      "execution_count": 71,
      "metadata": {
        "id": "GOJUwuVp3y55"
      },
      "outputs": [],
      "source": [
        "model.save('my_model_v.2.h5')"
      ]
    },
    {
      "cell_type": "code",
      "execution_count": 50,
      "metadata": {
        "id": "9xqVEkn033PO"
      },
      "outputs": [],
      "source": [
        "new_model = tf.keras.models.load_model('my_model.h5')"
      ]
    },
    {
      "cell_type": "code",
      "execution_count": 51,
      "metadata": {},
      "outputs": [
        {
          "ename": "ValueError",
          "evalue": "in user code:\n\n    File \"/opt/miniconda3/envs/AI2022/lib/python3.9/site-packages/keras/engine/training.py\", line 1845, in predict_function  *\n        return step_function(self, iterator)\n    File \"/opt/miniconda3/envs/AI2022/lib/python3.9/site-packages/keras/engine/training.py\", line 1834, in step_function  **\n        outputs = model.distribute_strategy.run(run_step, args=(data,))\n    File \"/opt/miniconda3/envs/AI2022/lib/python3.9/site-packages/keras/engine/training.py\", line 1823, in run_step  **\n        outputs = model.predict_step(data)\n    File \"/opt/miniconda3/envs/AI2022/lib/python3.9/site-packages/keras/engine/training.py\", line 1791, in predict_step\n        return self(x, training=False)\n    File \"/opt/miniconda3/envs/AI2022/lib/python3.9/site-packages/keras/utils/traceback_utils.py\", line 67, in error_handler\n        raise e.with_traceback(filtered_tb) from None\n    File \"/opt/miniconda3/envs/AI2022/lib/python3.9/site-packages/keras/engine/input_spec.py\", line 264, in assert_input_compatibility\n        raise ValueError(f'Input {input_index} of layer \"{layer_name}\" is '\n\n    ValueError: Input 0 of layer \"sequential\" is incompatible with the layer: expected shape=(None, 224, 224, 3), found shape=(32, 128, 128, 3)\n",
          "output_type": "error",
          "traceback": [
            "\u001b[0;31m---------------------------------------------------------------------------\u001b[0m",
            "\u001b[0;31mValueError\u001b[0m                                Traceback (most recent call last)",
            "\u001b[1;32m/Users/srisuphadith/cnn/Bus_v_1.ipynb Cell 37\u001b[0m in \u001b[0;36m<cell line: 2>\u001b[0;34m()\u001b[0m\n\u001b[1;32m      <a href='vscode-notebook-cell:/Users/srisuphadith/cnn/Bus_v_1.ipynb#X40sZmlsZQ%3D%3D?line=0'>1</a>\u001b[0m \u001b[39mimport\u001b[39;00m \u001b[39msklearn\u001b[39;00m\u001b[39m.\u001b[39;00m\u001b[39mmetrics\u001b[39;00m \u001b[39mas\u001b[39;00m \u001b[39mmetrics\u001b[39;00m\n\u001b[0;32m----> <a href='vscode-notebook-cell:/Users/srisuphadith/cnn/Bus_v_1.ipynb#X40sZmlsZQ%3D%3D?line=1'>2</a>\u001b[0m predicted_classes \u001b[39m=\u001b[39m (new_model\u001b[39m.\u001b[39;49mpredict(x_test))\n\u001b[1;32m      <a href='vscode-notebook-cell:/Users/srisuphadith/cnn/Bus_v_1.ipynb#X40sZmlsZQ%3D%3D?line=2'>3</a>\u001b[0m report \u001b[39m=\u001b[39m metrics\u001b[39m.\u001b[39mclassification_report(y_test, predicted_classes)\n\u001b[1;32m      <a href='vscode-notebook-cell:/Users/srisuphadith/cnn/Bus_v_1.ipynb#X40sZmlsZQ%3D%3D?line=3'>4</a>\u001b[0m \u001b[39mprint\u001b[39m(report)\n",
            "File \u001b[0;32m/opt/miniconda3/envs/AI2022/lib/python3.9/site-packages/keras/utils/traceback_utils.py:67\u001b[0m, in \u001b[0;36mfilter_traceback.<locals>.error_handler\u001b[0;34m(*args, **kwargs)\u001b[0m\n\u001b[1;32m     65\u001b[0m \u001b[39mexcept\u001b[39;00m \u001b[39mException\u001b[39;00m \u001b[39mas\u001b[39;00m e:  \u001b[39m# pylint: disable=broad-except\u001b[39;00m\n\u001b[1;32m     66\u001b[0m   filtered_tb \u001b[39m=\u001b[39m _process_traceback_frames(e\u001b[39m.\u001b[39m__traceback__)\n\u001b[0;32m---> 67\u001b[0m   \u001b[39mraise\u001b[39;00m e\u001b[39m.\u001b[39mwith_traceback(filtered_tb) \u001b[39mfrom\u001b[39;00m \u001b[39mNone\u001b[39m\n\u001b[1;32m     68\u001b[0m \u001b[39mfinally\u001b[39;00m:\n\u001b[1;32m     69\u001b[0m   \u001b[39mdel\u001b[39;00m filtered_tb\n",
            "File \u001b[0;32m/var/folders/g3/7gr7q51s1nv_zyyl2zft_6rc0000gn/T/__autograph_generated_filevl1v7ylq.py:15\u001b[0m, in \u001b[0;36mouter_factory.<locals>.inner_factory.<locals>.tf__predict_function\u001b[0;34m(iterator)\u001b[0m\n\u001b[1;32m     13\u001b[0m \u001b[39mtry\u001b[39;00m:\n\u001b[1;32m     14\u001b[0m     do_return \u001b[39m=\u001b[39m \u001b[39mTrue\u001b[39;00m\n\u001b[0;32m---> 15\u001b[0m     retval_ \u001b[39m=\u001b[39m ag__\u001b[39m.\u001b[39mconverted_call(ag__\u001b[39m.\u001b[39mld(step_function), (ag__\u001b[39m.\u001b[39mld(\u001b[39mself\u001b[39m), ag__\u001b[39m.\u001b[39mld(iterator)), \u001b[39mNone\u001b[39;00m, fscope)\n\u001b[1;32m     16\u001b[0m \u001b[39mexcept\u001b[39;00m:\n\u001b[1;32m     17\u001b[0m     do_return \u001b[39m=\u001b[39m \u001b[39mFalse\u001b[39;00m\n",
            "\u001b[0;31mValueError\u001b[0m: in user code:\n\n    File \"/opt/miniconda3/envs/AI2022/lib/python3.9/site-packages/keras/engine/training.py\", line 1845, in predict_function  *\n        return step_function(self, iterator)\n    File \"/opt/miniconda3/envs/AI2022/lib/python3.9/site-packages/keras/engine/training.py\", line 1834, in step_function  **\n        outputs = model.distribute_strategy.run(run_step, args=(data,))\n    File \"/opt/miniconda3/envs/AI2022/lib/python3.9/site-packages/keras/engine/training.py\", line 1823, in run_step  **\n        outputs = model.predict_step(data)\n    File \"/opt/miniconda3/envs/AI2022/lib/python3.9/site-packages/keras/engine/training.py\", line 1791, in predict_step\n        return self(x, training=False)\n    File \"/opt/miniconda3/envs/AI2022/lib/python3.9/site-packages/keras/utils/traceback_utils.py\", line 67, in error_handler\n        raise e.with_traceback(filtered_tb) from None\n    File \"/opt/miniconda3/envs/AI2022/lib/python3.9/site-packages/keras/engine/input_spec.py\", line 264, in assert_input_compatibility\n        raise ValueError(f'Input {input_index} of layer \"{layer_name}\" is '\n\n    ValueError: Input 0 of layer \"sequential\" is incompatible with the layer: expected shape=(None, 224, 224, 3), found shape=(32, 128, 128, 3)\n"
          ]
        }
      ],
      "source": [
        "import sklearn.metrics as metrics\n",
        "predicted_classes = (new_model.predict(x_test))\n",
        "report = metrics.classification_report(y_test, predicted_classes)\n",
        "print(report)   "
      ]
    },
    {
      "cell_type": "markdown",
      "metadata": {
        "id": "zA-NiRuQox9L"
      },
      "source": []
    }
  ],
  "metadata": {
    "accelerator": "GPU",
    "colab": {
      "collapsed_sections": [],
      "name": "Bus_v.1.ipynb",
      "provenance": []
    },
    "kernelspec": {
      "display_name": "Python 3.9.12 ('AI2022')",
      "language": "python",
      "name": "python3"
    },
    "language_info": {
      "codemirror_mode": {
        "name": "ipython",
        "version": 3
      },
      "file_extension": ".py",
      "mimetype": "text/x-python",
      "name": "python",
      "nbconvert_exporter": "python",
      "pygments_lexer": "ipython3",
      "version": "3.9.12"
    },
    "vscode": {
      "interpreter": {
        "hash": "dbf84be8bb5a4e47fa1e8fce36afa4117f8ee17892be731ca50ecf27c8429ae7"
      }
    }
  },
  "nbformat": 4,
  "nbformat_minor": 0
}
